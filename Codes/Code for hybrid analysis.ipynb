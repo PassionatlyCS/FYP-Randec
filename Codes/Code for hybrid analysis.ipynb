{
  "nbformat": 4,
  "nbformat_minor": 0,
  "metadata": {
    "colab": {
      "name": "final.ipynb",
      "provenance": [],
      "collapsed_sections": []
    },
    "kernelspec": {
      "name": "python3",
      "display_name": "Python 3"
    },
    "language_info": {
      "name": "python"
    }
  },
  "cells": [
    {
      "cell_type": "code",
      "metadata": {
        "id": "L8YDYLrqAE_s"
      },
      "source": [
        "from keras.applications.vgg16 import VGG16\n",
        "from keras.models import Model\n",
        "from keras.layers import Dense\n",
        "from keras.layers import Flatten\n",
        "from keras.optimizers import SGD\n",
        "from keras.preprocessing.image import ImageDataGenerator\n",
        " \n",
        "# define cnn model\n",
        "def define_model():\n",
        "\t# load model\n",
        "\tmodel = VGG16(include_top=False, input_shape=(224, 224, 3))\n",
        "\t# mark loaded layers as not trainable\n",
        "\tfor layer in model.layers:\n",
        "\t\tlayer.trainable = False\n",
        "\t# add new classifier layers\n",
        "\tflat1 = Flatten()(model.layers[-1].output)\n",
        "\tclass1 = Dense(128, activation='relu', kernel_initializer='he_uniform')(flat1)\n",
        "\toutput = Dense(1, activation='sigmoid')(class1)\n",
        "\t# define new model\n",
        "\tmodel = Model(inputs=model.inputs, outputs=output)\n",
        "\t# compile model\n",
        "\topt = SGD(lr=0.001, momentum=0.9)\n",
        "\tmodel.compile(optimizer=opt, loss='binary_crossentropy', metrics=['accuracy'])\n",
        "\treturn model\n",
        " \n",
        "# run the test harness for evaluating a model\n",
        "def run_test_harness():\n",
        "# define model\n",
        "\tmodel = define_model()\n",
        "\t# create data generator\n",
        "\tdatagen = ImageDataGenerator(featurewise_center=True)\n",
        "\t# specify imagenet mean values for centering\n",
        "\tdatagen.mean = [123.68, 116.779, 103.939]\n",
        "\t# prepare iterator\n",
        "\ttrain_it = datagen.flow_from_directory('/content/drive/MyDrive/train/',\n",
        "\t\tclass_mode='binary', batch_size=64, target_size=(224, 224))\n",
        "\t# fit model\n",
        "\tmodel.fit_generator(train_it, steps_per_epoch=len(train_it), epochs=10, verbose=0)\n",
        "\t# save model\n",
        "\tmodel.save('final_model.h5')\n",
        " \n",
        "# entry point, run the test harness\n",
        "run_test_harness()"
      ],
      "execution_count": null,
      "outputs": []
    },
    {
      "cell_type": "code",
      "metadata": {
        "id": "GdPB-KKYAvya"
      },
      "source": [
        "import numpy as np\n",
        "from PIL import Image\n",
        "import os\n",
        "from google.colab.patches import cv2_imshow\n",
        "import cv2\n",
        "\n",
        "def convert_to_img(path):\n",
        "  f = open(path, mode='r',encoding='utf-8')\n",
        "  image = np.fromfile(f, dtype=np.ubyte)\n",
        "  filesize = image.shape[0]\n",
        "  width = 224\n",
        "  rem = filesize%width\n",
        "  if rem != 0:\n",
        "    image = image[:-rem]\n",
        "  height = int(image.shape[0]/width)      #height based on file size\n",
        "  image = image.reshape(height,width)\n",
        "  #im = Image.fromarray(image)\n",
        "  return image"
      ],
      "execution_count": 81,
      "outputs": []
    },
    {
      "cell_type": "code",
      "metadata": {
        "colab": {
          "base_uri": "https://localhost:8080/"
        },
        "id": "zbvRgvaqAPHA",
        "outputId": "4c491609-9e10-4d36-819b-d5fd54cb75c0"
      },
      "source": [
        "from keras.preprocessing.image import load_img\n",
        "from keras.preprocessing.image import img_to_array\n",
        "from keras.models import load_model\n",
        "\n",
        "  # load and prepare the image\n",
        "def load_image(path,flag_of_img=False):\n",
        "# load the image\n",
        "  if (flag_of_img==False):\n",
        "    image=convert_to_img(path)\n",
        "    #print(type(image))\n",
        "    #image = np.array(image)\n",
        "    #print(type(image))\n",
        "    new_image = np.copy(image)\n",
        "    print(type(new_image))\n",
        "    #new_image = new_image.reshape(-1)\n",
        "    new_image = np.resize(new_image, (224,224,3))\n",
        "    new_image= np.expand_dims(new_image, axis= 0)\n",
        "\n",
        "    #new_image = new_image.reshape(-1,1)\n",
        "    #new_image=new_image.resize((224,224))\n",
        "    #image = np.array(image)\n",
        "    \n",
        "    print(type(new_image))\n",
        "    print(new_image.shape)\n",
        " \n",
        "    img = new_image.reshape(1,224,224,3)\n",
        "    #image= np.expand_dims(np.array(image, dtype= float)/255, axis= 0)\n",
        "    #new_image = new_image.reshape(-1,1)\n",
        "  if (flag_of_img):\n",
        "    filename = path\n",
        "    image=load_img(filename,target_size=(224,224))\n",
        "  # convert to array\n",
        "    img=img_to_array(image)\n",
        "\t# reshape into a single sample with 3 channels\n",
        "    img = img.reshape(1, 224, 224, 3)\n",
        "  # center pixel data\n",
        "  img = img.astype('float32')\n",
        "  img = img - [123.68, 116.779, 103.939]\n",
        "  return img\n",
        " \n",
        "# load an image and predict the class\n",
        "def run_example():\n",
        "\t# load the image\n",
        "\timg = load_image('/content/drive/MyDrive/i170217-Q3 - Afaq Asif.cpp',False)\n",
        "\t# load model\n",
        "\tmodel = load_model('/content/drive/MyDrive/complete_classifier.h5')\n",
        "\t# predict the class\n",
        "\tresult = model.predict(img)\n",
        "\tprint(result[0])\n",
        " \n",
        "# entry point, run the example\n",
        "run_example()"
      ],
      "execution_count": 109,
      "outputs": [
        {
          "output_type": "stream",
          "text": [
            "<class 'numpy.ndarray'>\n",
            "<class 'numpy.ndarray'>\n",
            "(1, 224, 224, 3)\n",
            "WARNING:tensorflow:6 out of the last 6 calls to <function Model.make_predict_function.<locals>.predict_function at 0x7fcca6d7f320> triggered tf.function retracing. Tracing is expensive and the excessive number of tracings could be due to (1) creating @tf.function repeatedly in a loop, (2) passing tensors with different shapes, (3) passing Python objects instead of tensors. For (1), please define your @tf.function outside of the loop. For (2), @tf.function has experimental_relax_shapes=True option that relaxes argument shapes that can avoid unnecessary retracing. For (3), please refer to https://www.tensorflow.org/guide/function#controlling_retracing and https://www.tensorflow.org/api_docs/python/tf/function for  more details.\n",
            "[0.08429724]\n"
          ],
          "name": "stdout"
        }
      ]
    },
    {
      "cell_type": "code",
      "metadata": {
        "colab": {
          "base_uri": "https://localhost:8080/",
          "height": 201
        },
        "id": "PK2XuJHBATGb",
        "outputId": "9ecde614-69f3-48e7-c8df-ea323b9e3321"
      },
      "source": [
        "#model = load_model('final_model.h5')\n",
        "model = load_model('/content/drive/MyDrive/complete_classifier.h5')\n",
        "#model.save('/content/drive/MyDrive/complete_classifier.h5')"
      ],
      "execution_count": null,
      "outputs": [
        {
          "output_type": "error",
          "ename": "NameError",
          "evalue": "ignored",
          "traceback": [
            "\u001b[0;31m---------------------------------------------------------------------------\u001b[0m",
            "\u001b[0;31mNameError\u001b[0m                                 Traceback (most recent call last)",
            "\u001b[0;32m<ipython-input-1-720dd473ee3a>\u001b[0m in \u001b[0;36m<module>\u001b[0;34m()\u001b[0m\n\u001b[1;32m      1\u001b[0m \u001b[0;31m#model = load_model('final_model.h5')\u001b[0m\u001b[0;34m\u001b[0m\u001b[0;34m\u001b[0m\u001b[0;34m\u001b[0m\u001b[0m\n\u001b[0;32m----> 2\u001b[0;31m \u001b[0mmodel\u001b[0m \u001b[0;34m=\u001b[0m \u001b[0mload_model\u001b[0m\u001b[0;34m(\u001b[0m\u001b[0;34m'/content/drive/MyDrive/complete_classifier.h5'\u001b[0m\u001b[0;34m)\u001b[0m\u001b[0;34m\u001b[0m\u001b[0;34m\u001b[0m\u001b[0m\n\u001b[0m\u001b[1;32m      3\u001b[0m \u001b[0;31m#model.save('/content/drive/MyDrive/complete_classifier.h5')\u001b[0m\u001b[0;34m\u001b[0m\u001b[0;34m\u001b[0m\u001b[0;34m\u001b[0m\u001b[0m\n",
            "\u001b[0;31mNameError\u001b[0m: name 'load_model' is not defined"
          ]
        }
      ]
    }
  ]
}