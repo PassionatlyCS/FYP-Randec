import pandas as pd
import numpy as np
import sklearn.ensemble as ensem
from sklearn import tree
from sklearn.model_selection import train_test_split
from sklearn.feature_selection import SelectFromModel
print("all liberaries loaded")

dataset = pd.read_csv('/content/data.csv',sep='|', low_memory=False) #dataset provided by a paper (2017). PE file dataset

dataset.groupby(dataset['legitimate']).size()
X = dataset.drop(['Name','md5','legitimate'],axis=1).values
y = dataset['legitimate'].values

print(X.shape)
print(y.shape)

extratrees = ensem.ExtraTreesClassifier().fit(X,y)
model = SelectFromModel(extratrees, prefit=True)
X_new = model.transform(X)
featureSet = X_new.shape[1]

print(featureSet)

X_train, X_test, y_train, y_test = train_test_split(X, y ,test_size=0.2)

features = []
index = np.argsort(extratrees.feature_importances_)[::-1][:featureSet]

for f in range(featureSet):
    print("%d. %s (%f)" % (f + 1, dataset.columns[2+index[f]], extratrees.feature_importances_[index[f]]))
    features.append(dataset.columns[2+f])
    

model = { "DecisionTree":tree.DecisionTreeClassifier(max_depth=8),
         "RandomForest":ensem.RandomForestClassifier(n_estimators=8)
}

results = {}
for Ml_Techq in model:
    clf = model[Ml_Techq]
    clf.fit(X_train,y_train)
    score = 100* clf.score(X_test,y_test)
    print ("%s : %s " %(Ml_Techq, score))
    results[algo] = score

#Here we will implement DNN as soon as we can idetify weights on the dataset we are making
