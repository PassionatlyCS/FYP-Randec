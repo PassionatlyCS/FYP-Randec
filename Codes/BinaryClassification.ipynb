import pandas as pd
import numpy as np
import sklearn.ensemble as ensem
from sklearn import tree
from sklearn.model_selection import train_test_split
from sklearn.feature_selection import SelectFromModel
print("all liberaries loaded")

#loading the dataset

dataset = pd.read_csv('/content/drive/MyDrive/5th/data.csv',sep='|') #dataset provided by a paper (2017). PE file dataset
X = dataset.drop(['Name','md5','legitimate'],axis=1).values
y = dataset['legitimate'].values


#confirming correct dimensions
print(X.shape)
print(y.shape)

#making estimator
extratrees = ensem.ExtraTreesClassifier().fit(X,y)    

#making meta-transformer for feature selection based on weights(fitted meta-transformer)
model = SelectFromModel(extratrees, prefit=True)

#transformed model X_new
X_new = model.transform(X)

#getting the columns
featureSet = X_new.shape[1]

#splitting the datasets
X_train, X_test, y_train, y_test = train_test_split(X, y ,test_size=0.2)

#list that will hold the most weighted features
features = []

#extracting most weighted features 
index = np.argsort(extratrees.feature_importances_)[::-1][:featureSet]

#displaying the weights assigned to each column of the dataset from index 2 and onwards
for f in range(featureSet):
    print("%d. %s (%f)" % (f + 1, dataset.columns[2+index[f]], extratrees.feature_importances_[index[f]]))
    features.append(dataset.columns[2+f])
    
#making a classification model
model = { "DecisionTree":tree.DecisionTreeClassifier(max_depth=8),
         "RandomForest":ensem.RandomForestClassifier(n_estimators=8)
}

#training the model and displaying classification results 
results = {}
for Ml_Technique in model:
    clf = model[Ml_Technique]
    clf.fit(X_train,y_train)
    score = 100* clf.score(X_test,y_test)
    print ("%s : %s " %(Ml_Technique, score))
    results[Ml_Technique] = score

#Here we will implement DNN as soon as we can idetify weights on the dataset we are making
